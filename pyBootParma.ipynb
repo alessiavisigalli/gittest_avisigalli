{
  "nbformat": 4,
  "nbformat_minor": 0,
  "metadata": {
    "colab": {
      "name": "pyBootParma.ipynb",
      "provenance": [],
      "authorship_tag": "ABX9TyNEMSCFm2Auv6SOYgKdi7G5",
      "include_colab_link": true
    },
    "kernelspec": {
      "name": "python3",
      "display_name": "Python 3"
    },
    "language_info": {
      "name": "python"
    }
  },
  "cells": [
    {
      "cell_type": "markdown",
      "metadata": {
        "id": "view-in-github",
        "colab_type": "text"
      },
      "source": [
        "<a href=\"https://colab.research.google.com/github/alessiavisigalli/gittest_avisigalli/blob/master/pyBootParma.ipynb\" target=\"_parent\"><img src=\"https://colab.research.google.com/assets/colab-badge.svg\" alt=\"Open In Colab\"/></a>"
      ]
    },
    {
      "cell_type": "code",
      "metadata": {
        "colab": {
          "base_uri": "https://localhost:8080/"
        },
        "id": "zXbsvxbIbn9c",
        "outputId": "79a46442-c636-47bc-fe7c-0b3e671fa2c1"
      },
      "source": [
        "print('hello')"
      ],
      "execution_count": 1,
      "outputs": [
        {
          "output_type": "stream",
          "text": [
            "hello\n"
          ],
          "name": "stdout"
        }
      ]
    },
    {
      "cell_type": "code",
      "metadata": {
        "id": "z01MJnnzVcba"
      },
      "source": [
        "from __future__ import print_function division"
      ],
      "execution_count": null,
      "outputs": []
    },
    {
      "cell_type": "code",
      "metadata": {
        "colab": {
          "base_uri": "https://localhost:8080/"
        },
        "id": "_iZWR-3bXKJ_",
        "outputId": "eb322c6b-660f-4aec-b7e3-eabcfffd897c"
      },
      "source": [
        "stringVariable = 'hello!'\n",
        "print(stringVariable)"
      ],
      "execution_count": 3,
      "outputs": [
        {
          "output_type": "stream",
          "text": [
            "hello!\n"
          ],
          "name": "stdout"
        }
      ]
    },
    {
      "cell_type": "code",
      "metadata": {
        "colab": {
          "base_uri": "https://localhost:8080/"
        },
        "id": "zvtDU4FOXY6u",
        "outputId": "49a3b2bf-d666-497e-8a6a-82dce0e7aa12"
      },
      "source": [
        "intVariable = 3 \n",
        "type(intVariable)"
      ],
      "execution_count": 4,
      "outputs": [
        {
          "output_type": "execute_result",
          "data": {
            "text/plain": [
              "int"
            ]
          },
          "metadata": {
            "tags": []
          },
          "execution_count": 4
        }
      ]
    },
    {
      "cell_type": "code",
      "metadata": {
        "colab": {
          "base_uri": "https://localhost:8080/"
        },
        "id": "Wsl5HPVEXuqX",
        "outputId": "1d74dafd-738c-46cd-ac5b-f33d3aac5c96"
      },
      "source": [
        "type(stringVariable)"
      ],
      "execution_count": 5,
      "outputs": [
        {
          "output_type": "execute_result",
          "data": {
            "text/plain": [
              "str"
            ]
          },
          "metadata": {
            "tags": []
          },
          "execution_count": 5
        }
      ]
    },
    {
      "cell_type": "code",
      "metadata": {
        "colab": {
          "base_uri": "https://localhost:8080/"
        },
        "id": "GZpsQC5DX0Ws",
        "outputId": "b90a4bf0-1203-4b32-c3c8-a93593432a3c"
      },
      "source": [
        "floatVariable = 3.\n",
        "type(floatVariable)"
      ],
      "execution_count": 6,
      "outputs": [
        {
          "output_type": "execute_result",
          "data": {
            "text/plain": [
              "float"
            ]
          },
          "metadata": {
            "tags": []
          },
          "execution_count": 6
        }
      ]
    },
    {
      "cell_type": "code",
      "metadata": {
        "colab": {
          "base_uri": "https://localhost:8080/"
        },
        "id": "sAhCMN4PX-HT",
        "outputId": "40dfb2f8-e4fd-4433-b88b-93cb3b5c4d52"
      },
      "source": [
        "5 * 2"
      ],
      "execution_count": 7,
      "outputs": [
        {
          "output_type": "execute_result",
          "data": {
            "text/plain": [
              "10"
            ]
          },
          "metadata": {
            "tags": []
          },
          "execution_count": 7
        }
      ]
    },
    {
      "cell_type": "code",
      "metadata": {
        "colab": {
          "base_uri": "https://localhost:8080/"
        },
        "id": "2l_JxwltYAZq",
        "outputId": "7e636c41-d40d-4be5-bf67-37cf287f587d"
      },
      "source": [
        "intVariable * floatVariable"
      ],
      "execution_count": 8,
      "outputs": [
        {
          "output_type": "execute_result",
          "data": {
            "text/plain": [
              "9.0"
            ]
          },
          "metadata": {
            "tags": []
          },
          "execution_count": 8
        }
      ]
    },
    {
      "cell_type": "code",
      "metadata": {
        "colab": {
          "base_uri": "https://localhost:8080/"
        },
        "id": "bJifsABaYWy7",
        "outputId": "57e94369-1476-4a4f-8b55-c855e476e2fa"
      },
      "source": [
        "int(intVariable * floatVariable)"
      ],
      "execution_count": 9,
      "outputs": [
        {
          "output_type": "execute_result",
          "data": {
            "text/plain": [
              "9"
            ]
          },
          "metadata": {
            "tags": []
          },
          "execution_count": 9
        }
      ]
    },
    {
      "cell_type": "code",
      "metadata": {
        "colab": {
          "base_uri": "https://localhost:8080/",
          "height": 37
        },
        "id": "JL3bFJAqYblB",
        "outputId": "dd5290a6-a03e-4e96-ac02-f9fc8fba4f62"
      },
      "source": [
        "str(intVariable * floatVariable)"
      ],
      "execution_count": 10,
      "outputs": [
        {
          "output_type": "execute_result",
          "data": {
            "application/vnd.google.colaboratory.intrinsic+json": {
              "type": "string"
            },
            "text/plain": [
              "'9.0'"
            ]
          },
          "metadata": {
            "tags": []
          },
          "execution_count": 10
        }
      ]
    },
    {
      "cell_type": "code",
      "metadata": {
        "id": "2QQtQ6zQYgT1"
      },
      "source": [
        "boolVar = True"
      ],
      "execution_count": 12,
      "outputs": []
    },
    {
      "cell_type": "code",
      "metadata": {
        "colab": {
          "base_uri": "https://localhost:8080/"
        },
        "id": "rXW7FbTAYjSh",
        "outputId": "8125b123-8424-405d-f891-8433994cfa67"
      },
      "source": [
        "boolVar"
      ],
      "execution_count": 13,
      "outputs": [
        {
          "output_type": "execute_result",
          "data": {
            "text/plain": [
              "True"
            ]
          },
          "metadata": {
            "tags": []
          },
          "execution_count": 13
        }
      ]
    },
    {
      "cell_type": "code",
      "metadata": {
        "colab": {
          "base_uri": "https://localhost:8080/"
        },
        "id": "YhA2pXVXYn_R",
        "outputId": "95b86450-f669-4111-f9b9-fd6fb3f03b43"
      },
      "source": [
        "(type(floatVariable) == float)"
      ],
      "execution_count": 15,
      "outputs": [
        {
          "output_type": "execute_result",
          "data": {
            "text/plain": [
              "True"
            ]
          },
          "metadata": {
            "tags": []
          },
          "execution_count": 15
        }
      ]
    },
    {
      "cell_type": "code",
      "metadata": {
        "colab": {
          "base_uri": "https://localhost:8080/"
        },
        "id": "K69WWYxsY6WI",
        "outputId": "53fed51d-502a-499d-b55e-420c14d99eff"
      },
      "source": [
        "if type(floatVariable) == float:\n",
        "  print ('yes its a float')"
      ],
      "execution_count": 16,
      "outputs": [
        {
          "output_type": "stream",
          "text": [
            "yes its a float\n"
          ],
          "name": "stdout"
        }
      ]
    },
    {
      "cell_type": "code",
      "metadata": {
        "colab": {
          "base_uri": "https://localhost:8080/"
        },
        "id": "0KyED3bkZLcP",
        "outputId": "669e6cad-a417-4846-8b16-36e0dac4061d"
      },
      "source": [
        "if not type(floatVariable) == float:\n",
        "  print ('nope')\n",
        "else :\n",
        "  print ('yes')  "
      ],
      "execution_count": 17,
      "outputs": [
        {
          "output_type": "stream",
          "text": [
            "yes\n"
          ],
          "name": "stdout"
        }
      ]
    },
    {
      "cell_type": "code",
      "metadata": {
        "colab": {
          "base_uri": "https://localhost:8080/"
        },
        "id": "sS-iq9efZT5i",
        "outputId": "3d2d6c03-5941-4955-f1fc-e20226918d82"
      },
      "source": [
        "if 0:\n",
        "  print ('no')\n",
        "else :\n",
        "  print ('yes')  "
      ],
      "execution_count": 18,
      "outputs": [
        {
          "output_type": "stream",
          "text": [
            "yes\n"
          ],
          "name": "stdout"
        }
      ]
    },
    {
      "cell_type": "code",
      "metadata": {
        "colab": {
          "base_uri": "https://localhost:8080/"
        },
        "id": "-w7wv9kwZnro",
        "outputId": "54c32e0d-d2f6-4442-e706-9575440c7e32"
      },
      "source": [
        "if 2:\n",
        "  print ('yes')\n",
        "else :\n",
        "  print ('no') "
      ],
      "execution_count": 19,
      "outputs": [
        {
          "output_type": "stream",
          "text": [
            "yes\n"
          ],
          "name": "stdout"
        }
      ]
    },
    {
      "cell_type": "code",
      "metadata": {
        "colab": {
          "base_uri": "https://localhost:8080/"
        },
        "id": "mz8SidWRZrU6",
        "outputId": "d3a9125a-2b1e-4a1c-fc42-bc70f3efdd43"
      },
      "source": [
        "if type(floatVariable) == float or floatVariable < 0:\n",
        "  print ('yes its a float > 1')"
      ],
      "execution_count": 22,
      "outputs": [
        {
          "output_type": "stream",
          "text": [
            "yes its a float > 1\n"
          ],
          "name": "stdout"
        }
      ]
    },
    {
      "cell_type": "code",
      "metadata": {
        "colab": {
          "base_uri": "https://localhost:8080/"
        },
        "id": "uUVc6LbFZ4Nv",
        "outputId": "4aadba89-37e0-4a2c-d416-70675ca6ef30"
      },
      "source": [
        "for a in range(10):\n",
        "  print(a)"
      ],
      "execution_count": 23,
      "outputs": [
        {
          "output_type": "stream",
          "text": [
            "0\n",
            "1\n",
            "2\n",
            "3\n",
            "4\n",
            "5\n",
            "6\n",
            "7\n",
            "8\n",
            "9\n"
          ],
          "name": "stdout"
        }
      ]
    },
    {
      "cell_type": "code",
      "metadata": {
        "colab": {
          "base_uri": "https://localhost:8080/"
        },
        "id": "aOguQdBAaNkS",
        "outputId": "ad435ef0-41ad-4d39-a118-67b80f323b4e"
      },
      "source": [
        "a = 0\n",
        "while a is not 10:\n",
        "  a = a+1\n",
        "  print(a)"
      ],
      "execution_count": 26,
      "outputs": [
        {
          "output_type": "stream",
          "text": [
            "1\n",
            "2\n",
            "3\n",
            "4\n",
            "5\n",
            "6\n",
            "7\n",
            "8\n",
            "9\n",
            "10\n"
          ],
          "name": "stdout"
        }
      ]
    },
    {
      "cell_type": "code",
      "metadata": {
        "id": "lA8jwnSwaatB"
      },
      "source": [
        ""
      ],
      "execution_count": null,
      "outputs": []
    }
  ]
}