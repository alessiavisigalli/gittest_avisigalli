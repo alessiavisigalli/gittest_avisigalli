{
  "nbformat": 4,
  "nbformat_minor": 0,
  "metadata": {
    "colab": {
      "name": "pyBootParma.ipynb",
      "provenance": [],
      "authorship_tag": "ABX9TyO3mvY3VC8mVZBOd8Fkeh1g",
      "include_colab_link": true
    },
    "kernelspec": {
      "name": "python3",
      "display_name": "Python 3"
    },
    "language_info": {
      "name": "python"
    }
  },
  "cells": [
    {
      "cell_type": "markdown",
      "metadata": {
        "id": "view-in-github",
        "colab_type": "text"
      },
      "source": [
        "<a href=\"https://colab.research.google.com/github/alessiavisigalli/gittest_avisigalli/blob/master/pyBootParma.ipynb\" target=\"_parent\"><img src=\"https://colab.research.google.com/assets/colab-badge.svg\" alt=\"Open In Colab\"/></a>"
      ]
    },
    {
      "cell_type": "markdown",
      "metadata": {
        "id": "Csfod0newDws"
      },
      "source": [
        "# 17/03"
      ]
    },
    {
      "cell_type": "code",
      "metadata": {
        "colab": {
          "base_uri": "https://localhost:8080/"
        },
        "id": "zXbsvxbIbn9c",
        "outputId": "94c2adf2-1c83-4f2c-c303-99ecf0a52ae9"
      },
      "source": [
        "print('hello')"
      ],
      "execution_count": 17,
      "outputs": [
        {
          "output_type": "stream",
          "text": [
            "hello\n"
          ],
          "name": "stdout"
        }
      ]
    },
    {
      "cell_type": "code",
      "metadata": {
        "id": "z01MJnnzVcba"
      },
      "source": [
        "# importing a module\n",
        "from __future__ import print_function, division"
      ],
      "execution_count": 18,
      "outputs": []
    },
    {
      "cell_type": "code",
      "metadata": {
        "colab": {
          "base_uri": "https://localhost:8080/"
        },
        "id": "_iZWR-3bXKJ_",
        "outputId": "95457dd4-13c9-4ad8-a290-dd043501f857"
      },
      "source": [
        "stringVariable = 'hello!'\n",
        "print(stringVariable)"
      ],
      "execution_count": 19,
      "outputs": [
        {
          "output_type": "stream",
          "text": [
            "hello!\n"
          ],
          "name": "stdout"
        }
      ]
    },
    {
      "cell_type": "code",
      "metadata": {
        "colab": {
          "base_uri": "https://localhost:8080/"
        },
        "id": "zvtDU4FOXY6u",
        "outputId": "42894981-593a-4906-ab11-a5d191fdadfd"
      },
      "source": [
        "intVariable = 3 \n",
        "type(intVariable)"
      ],
      "execution_count": 20,
      "outputs": [
        {
          "output_type": "execute_result",
          "data": {
            "text/plain": [
              "int"
            ]
          },
          "metadata": {
            "tags": []
          },
          "execution_count": 20
        }
      ]
    },
    {
      "cell_type": "code",
      "metadata": {
        "colab": {
          "base_uri": "https://localhost:8080/"
        },
        "id": "Wsl5HPVEXuqX",
        "outputId": "7d26d583-88d4-46d7-f58c-5a8173e5ffd7"
      },
      "source": [
        "type(stringVariable)"
      ],
      "execution_count": 21,
      "outputs": [
        {
          "output_type": "execute_result",
          "data": {
            "text/plain": [
              "str"
            ]
          },
          "metadata": {
            "tags": []
          },
          "execution_count": 21
        }
      ]
    },
    {
      "cell_type": "code",
      "metadata": {
        "colab": {
          "base_uri": "https://localhost:8080/"
        },
        "id": "GZpsQC5DX0Ws",
        "outputId": "cc58dcdf-8bc7-408f-8ad4-5d43730e39f3"
      },
      "source": [
        "floatVariable = 3.\n",
        "type(floatVariable)"
      ],
      "execution_count": 22,
      "outputs": [
        {
          "output_type": "execute_result",
          "data": {
            "text/plain": [
              "float"
            ]
          },
          "metadata": {
            "tags": []
          },
          "execution_count": 22
        }
      ]
    },
    {
      "cell_type": "code",
      "metadata": {
        "colab": {
          "base_uri": "https://localhost:8080/"
        },
        "id": "sAhCMN4PX-HT",
        "outputId": "30e71db9-0a35-459c-9245-d8ee963eae49"
      },
      "source": [
        "5 * 2"
      ],
      "execution_count": 23,
      "outputs": [
        {
          "output_type": "execute_result",
          "data": {
            "text/plain": [
              "10"
            ]
          },
          "metadata": {
            "tags": []
          },
          "execution_count": 23
        }
      ]
    },
    {
      "cell_type": "code",
      "metadata": {
        "colab": {
          "base_uri": "https://localhost:8080/"
        },
        "id": "2l_JxwltYAZq",
        "outputId": "888eb21e-3c1c-4ffd-c3a3-d6ef3baa74b4"
      },
      "source": [
        "intVariable * floatVariable"
      ],
      "execution_count": 24,
      "outputs": [
        {
          "output_type": "execute_result",
          "data": {
            "text/plain": [
              "9.0"
            ]
          },
          "metadata": {
            "tags": []
          },
          "execution_count": 24
        }
      ]
    },
    {
      "cell_type": "code",
      "metadata": {
        "colab": {
          "base_uri": "https://localhost:8080/"
        },
        "id": "bJifsABaYWy7",
        "outputId": "27b3ae94-7947-4539-a5ed-1d40f45c8f96"
      },
      "source": [
        "int(intVariable * floatVariable)"
      ],
      "execution_count": 25,
      "outputs": [
        {
          "output_type": "execute_result",
          "data": {
            "text/plain": [
              "9"
            ]
          },
          "metadata": {
            "tags": []
          },
          "execution_count": 25
        }
      ]
    },
    {
      "cell_type": "code",
      "metadata": {
        "colab": {
          "base_uri": "https://localhost:8080/",
          "height": 58
        },
        "id": "JL3bFJAqYblB",
        "outputId": "7e74aa10-2e6f-4a11-d2c3-a6524ae8cfd8"
      },
      "source": [
        "str(intVariable * floatVariable)"
      ],
      "execution_count": 26,
      "outputs": [
        {
          "output_type": "execute_result",
          "data": {
            "application/vnd.google.colaboratory.intrinsic+json": {
              "type": "string"
            },
            "text/plain": [
              "'9.0'"
            ]
          },
          "metadata": {
            "tags": []
          },
          "execution_count": 26
        }
      ]
    },
    {
      "cell_type": "code",
      "metadata": {
        "id": "2QQtQ6zQYgT1"
      },
      "source": [
        "boolVar = True"
      ],
      "execution_count": 27,
      "outputs": []
    },
    {
      "cell_type": "code",
      "metadata": {
        "colab": {
          "base_uri": "https://localhost:8080/"
        },
        "id": "rXW7FbTAYjSh",
        "outputId": "2f563acc-c095-48a2-9c79-fe15ebf41996"
      },
      "source": [
        "boolVar"
      ],
      "execution_count": 28,
      "outputs": [
        {
          "output_type": "execute_result",
          "data": {
            "text/plain": [
              "True"
            ]
          },
          "metadata": {
            "tags": []
          },
          "execution_count": 28
        }
      ]
    },
    {
      "cell_type": "code",
      "metadata": {
        "colab": {
          "base_uri": "https://localhost:8080/"
        },
        "id": "YhA2pXVXYn_R",
        "outputId": "5ee4ddf7-6c44-40f3-a967-0750c211419f"
      },
      "source": [
        "(type(floatVariable) == float)"
      ],
      "execution_count": 29,
      "outputs": [
        {
          "output_type": "execute_result",
          "data": {
            "text/plain": [
              "True"
            ]
          },
          "metadata": {
            "tags": []
          },
          "execution_count": 29
        }
      ]
    },
    {
      "cell_type": "code",
      "metadata": {
        "colab": {
          "base_uri": "https://localhost:8080/"
        },
        "id": "K69WWYxsY6WI",
        "outputId": "f97c0010-6866-4378-aefe-6824d1e6b966"
      },
      "source": [
        "if type(floatVariable) == float:\n",
        "  print ('yes its a float')"
      ],
      "execution_count": 30,
      "outputs": [
        {
          "output_type": "stream",
          "text": [
            "yes its a float\n"
          ],
          "name": "stdout"
        }
      ]
    },
    {
      "cell_type": "code",
      "metadata": {
        "colab": {
          "base_uri": "https://localhost:8080/"
        },
        "id": "0KyED3bkZLcP",
        "outputId": "054d8fdc-ef34-458b-8c85-3b9fc752dbd4"
      },
      "source": [
        "if not type(floatVariable) == float:\n",
        "  print ('nope')\n",
        "else :\n",
        "  print ('yes')  "
      ],
      "execution_count": 31,
      "outputs": [
        {
          "output_type": "stream",
          "text": [
            "yes\n"
          ],
          "name": "stdout"
        }
      ]
    },
    {
      "cell_type": "code",
      "metadata": {
        "colab": {
          "base_uri": "https://localhost:8080/"
        },
        "id": "sS-iq9efZT5i",
        "outputId": "f5838db8-c88d-4e1e-c6f9-e0076f4338d5"
      },
      "source": [
        "if 0:\n",
        "  print ('no')\n",
        "else :\n",
        "  print ('yes')  "
      ],
      "execution_count": 32,
      "outputs": [
        {
          "output_type": "stream",
          "text": [
            "yes\n"
          ],
          "name": "stdout"
        }
      ]
    },
    {
      "cell_type": "code",
      "metadata": {
        "colab": {
          "base_uri": "https://localhost:8080/"
        },
        "id": "-w7wv9kwZnro",
        "outputId": "7678e21c-63eb-424c-d2dd-4dab7cca223a"
      },
      "source": [
        "if 2:\n",
        "  print ('yes')\n",
        "else :\n",
        "  print ('no') "
      ],
      "execution_count": 33,
      "outputs": [
        {
          "output_type": "stream",
          "text": [
            "yes\n"
          ],
          "name": "stdout"
        }
      ]
    },
    {
      "cell_type": "code",
      "metadata": {
        "colab": {
          "base_uri": "https://localhost:8080/"
        },
        "id": "mz8SidWRZrU6",
        "outputId": "3f6b3573-d1ba-41ff-ac20-d2c8c91a41a7"
      },
      "source": [
        "if type(floatVariable) == float or floatVariable < 0:\n",
        "  print ('yes its a float > 1')"
      ],
      "execution_count": 34,
      "outputs": [
        {
          "output_type": "stream",
          "text": [
            "yes its a float > 1\n"
          ],
          "name": "stdout"
        }
      ]
    },
    {
      "cell_type": "code",
      "metadata": {
        "colab": {
          "base_uri": "https://localhost:8080/"
        },
        "id": "uUVc6LbFZ4Nv",
        "outputId": "263f0c7f-adc7-49f4-c872-92977a63bedf"
      },
      "source": [
        "for a in range(10):\n",
        "  print(a)"
      ],
      "execution_count": 35,
      "outputs": [
        {
          "output_type": "stream",
          "text": [
            "0\n",
            "1\n",
            "2\n",
            "3\n",
            "4\n",
            "5\n",
            "6\n",
            "7\n",
            "8\n",
            "9\n"
          ],
          "name": "stdout"
        }
      ]
    },
    {
      "cell_type": "code",
      "metadata": {
        "colab": {
          "base_uri": "https://localhost:8080/"
        },
        "id": "aOguQdBAaNkS",
        "outputId": "c5fe67a1-1aa7-4a8f-aae5-8dd648c4a7b4"
      },
      "source": [
        "a = 0\n",
        "while a is not 10:\n",
        "  a = a+1\n",
        "  print(a)"
      ],
      "execution_count": 36,
      "outputs": [
        {
          "output_type": "stream",
          "text": [
            "1\n",
            "2\n",
            "3\n",
            "4\n",
            "5\n",
            "6\n",
            "7\n",
            "8\n",
            "9\n",
            "10\n"
          ],
          "name": "stdout"
        }
      ]
    },
    {
      "cell_type": "code",
      "metadata": {
        "id": "lA8jwnSwaatB"
      },
      "source": [
        ""
      ],
      "execution_count": 36,
      "outputs": []
    },
    {
      "cell_type": "markdown",
      "metadata": {
        "id": "ZDaK-t5xwRr3"
      },
      "source": [
        "# 18/03"
      ]
    },
    {
      "cell_type": "markdown",
      "metadata": {
        "id": "ZYxj1tUp-EHq"
      },
      "source": [
        "### Variable conteiners"
      ]
    },
    {
      "cell_type": "code",
      "metadata": {
        "colab": {
          "base_uri": "https://localhost:8080/"
        },
        "id": "D8byWQut-d0W",
        "outputId": "8155d8ba-cebf-46a0-aedb-5f74cc4156fb"
      },
      "source": [
        "myList = [0, 1, 2]\n",
        "myList"
      ],
      "execution_count": 37,
      "outputs": [
        {
          "output_type": "execute_result",
          "data": {
            "text/plain": [
              "[0, 1, 2]"
            ]
          },
          "metadata": {
            "tags": []
          },
          "execution_count": 37
        }
      ]
    },
    {
      "cell_type": "code",
      "metadata": {
        "colab": {
          "base_uri": "https://localhost:8080/"
        },
        "id": "dMR44sGx-kHk",
        "outputId": "be08ad65-00ae-4c09-cff6-8970a2eaf429"
      },
      "source": [
        "type(myList)"
      ],
      "execution_count": 38,
      "outputs": [
        {
          "output_type": "execute_result",
          "data": {
            "text/plain": [
              "list"
            ]
          },
          "metadata": {
            "tags": []
          },
          "execution_count": 38
        }
      ]
    },
    {
      "cell_type": "code",
      "metadata": {
        "colab": {
          "base_uri": "https://localhost:8080/"
        },
        "id": "4ECYkSWZ-riC",
        "outputId": "b6fb3b15-636a-4c73-f5c8-f82b6be4732e"
      },
      "source": [
        "myList = [0, 1, 'hello', 3.3]\n",
        "myList"
      ],
      "execution_count": 39,
      "outputs": [
        {
          "output_type": "execute_result",
          "data": {
            "text/plain": [
              "[0, 1, 'hello', 3.3]"
            ]
          },
          "metadata": {
            "tags": []
          },
          "execution_count": 39
        }
      ]
    },
    {
      "cell_type": "code",
      "metadata": {
        "colab": {
          "base_uri": "https://localhost:8080/"
        },
        "id": "Mhw4FYW3-xMw",
        "outputId": "4b87e636-4bef-4345-92aa-b226d938edba"
      },
      "source": [
        "myList = [0, 1, 'hello', 3.3, [0, 1, 2]]\n",
        "myList"
      ],
      "execution_count": 40,
      "outputs": [
        {
          "output_type": "execute_result",
          "data": {
            "text/plain": [
              "[0, 1, 'hello', 3.3, [0, 1, 2]]"
            ]
          },
          "metadata": {
            "tags": []
          },
          "execution_count": 40
        }
      ]
    },
    {
      "cell_type": "code",
      "metadata": {
        "id": "qBv92W6c_A0S"
      },
      "source": [
        "#The first element of a list is the zero element"
      ],
      "execution_count": 41,
      "outputs": []
    },
    {
      "cell_type": "code",
      "metadata": {
        "colab": {
          "base_uri": "https://localhost:8080/"
        },
        "id": "Oa43eez7_E7-",
        "outputId": "08659658-dd03-4a60-a6e1-efa98435a9f1"
      },
      "source": [
        "myList[-1]"
      ],
      "execution_count": 42,
      "outputs": [
        {
          "output_type": "execute_result",
          "data": {
            "text/plain": [
              "[0, 1, 2]"
            ]
          },
          "metadata": {
            "tags": []
          },
          "execution_count": 42
        }
      ]
    },
    {
      "cell_type": "code",
      "metadata": {
        "id": "3W-r9aEP_Oja"
      },
      "source": [
        "stringVariable = 'hello'"
      ],
      "execution_count": 43,
      "outputs": []
    },
    {
      "cell_type": "code",
      "metadata": {
        "colab": {
          "base_uri": "https://localhost:8080/",
          "height": 58
        },
        "id": "aaxlQppb_pN3",
        "outputId": "67e0947a-35fd-481e-eeab-67f991c0dff9"
      },
      "source": [
        "stringVariable + stringVariable"
      ],
      "execution_count": 44,
      "outputs": [
        {
          "output_type": "execute_result",
          "data": {
            "application/vnd.google.colaboratory.intrinsic+json": {
              "type": "string"
            },
            "text/plain": [
              "'hellohello'"
            ]
          },
          "metadata": {
            "tags": []
          },
          "execution_count": 44
        }
      ]
    },
    {
      "cell_type": "code",
      "metadata": {
        "colab": {
          "base_uri": "https://localhost:8080/"
        },
        "id": "maGJeET9ADo0",
        "outputId": "351266f4-e8fb-4bee-f591-7c631666391a"
      },
      "source": [
        "tmplist = []\n",
        "for a in range(22):\n",
        "  tmplist.append(a**2)\n",
        "tmplist  "
      ],
      "execution_count": 45,
      "outputs": [
        {
          "output_type": "execute_result",
          "data": {
            "text/plain": [
              "[0,\n",
              " 1,\n",
              " 4,\n",
              " 9,\n",
              " 16,\n",
              " 25,\n",
              " 36,\n",
              " 49,\n",
              " 64,\n",
              " 81,\n",
              " 100,\n",
              " 121,\n",
              " 144,\n",
              " 169,\n",
              " 196,\n",
              " 225,\n",
              " 256,\n",
              " 289,\n",
              " 324,\n",
              " 361,\n",
              " 400,\n",
              " 441]"
            ]
          },
          "metadata": {
            "tags": []
          },
          "execution_count": 45
        }
      ]
    },
    {
      "cell_type": "code",
      "metadata": {
        "colab": {
          "base_uri": "https://localhost:8080/"
        },
        "id": "GhBpDGqlAm6V",
        "outputId": "c212c931-5a65-49ff-828d-830529c22214"
      },
      "source": [
        "tmplist = []\n",
        "a = 0\n",
        "while a**2 < 300:\n",
        "  a = a+1\n",
        "  tmplist.append(a**2)\n",
        "tmplist "
      ],
      "execution_count": 46,
      "outputs": [
        {
          "output_type": "execute_result",
          "data": {
            "text/plain": [
              "[1, 4, 9, 16, 25, 36, 49, 64, 81, 100, 121, 144, 169, 196, 225, 256, 289, 324]"
            ]
          },
          "metadata": {
            "tags": []
          },
          "execution_count": 46
        }
      ]
    },
    {
      "cell_type": "markdown",
      "metadata": {
        "id": "WXgKdde9BDfr"
      },
      "source": [
        "List are really useful cause they can contain hybrid types and because they do not need to be allocated memory before they are filled so I can appened things on the fly"
      ]
    },
    {
      "cell_type": "markdown",
      "metadata": {
        "id": "w0xpiwtPB4Yk"
      },
      "source": [
        "List are also extrimely computationally inefficient"
      ]
    },
    {
      "cell_type": "code",
      "metadata": {
        "colab": {
          "base_uri": "https://localhost:8080/"
        },
        "id": "Tz3De9WOB_KV",
        "outputId": "bdc240a9-f4c2-476f-9bbb-91eb10f34d64"
      },
      "source": [
        "dictVariable = {\"keyInt\": 0,\n",
        "                \"keyFloat\": 0.3,\n",
        "                \"keyString\": \"Im a string\",\n",
        "                \"keyDict\": {} }\n",
        "\n",
        "dictVariable                "
      ],
      "execution_count": 47,
      "outputs": [
        {
          "output_type": "execute_result",
          "data": {
            "text/plain": [
              "{'keyDict': {}, 'keyFloat': 0.3, 'keyInt': 0, 'keyString': 'Im a string'}"
            ]
          },
          "metadata": {
            "tags": []
          },
          "execution_count": 47
        }
      ]
    },
    {
      "cell_type": "code",
      "metadata": {
        "id": "aw4AmM6nFErO"
      },
      "source": [
        "dictVariable[\"keyList\"] = []"
      ],
      "execution_count": 48,
      "outputs": []
    },
    {
      "cell_type": "code",
      "metadata": {
        "colab": {
          "base_uri": "https://localhost:8080/"
        },
        "id": "khneH5ovFOZ1",
        "outputId": "d7681396-2769-439c-b297-a293ea8f7bf0"
      },
      "source": [
        "dictVariable"
      ],
      "execution_count": 49,
      "outputs": [
        {
          "output_type": "execute_result",
          "data": {
            "text/plain": [
              "{'keyDict': {},\n",
              " 'keyFloat': 0.3,\n",
              " 'keyInt': 0,\n",
              " 'keyList': [],\n",
              " 'keyString': 'Im a string'}"
            ]
          },
          "metadata": {
            "tags": []
          },
          "execution_count": 49
        }
      ]
    },
    {
      "cell_type": "code",
      "metadata": {
        "id": "iDQbsJNIFle1"
      },
      "source": [
        "dictVariable[\"keyList\"].append(0)"
      ],
      "execution_count": 50,
      "outputs": []
    },
    {
      "cell_type": "code",
      "metadata": {
        "colab": {
          "base_uri": "https://localhost:8080/"
        },
        "id": "1wkigd3JFptR",
        "outputId": "9f5ce57f-5b52-41e0-b75f-08400f2c4345"
      },
      "source": [
        "dictVariable"
      ],
      "execution_count": 51,
      "outputs": [
        {
          "output_type": "execute_result",
          "data": {
            "text/plain": [
              "{'keyDict': {},\n",
              " 'keyFloat': 0.3,\n",
              " 'keyInt': 0,\n",
              " 'keyList': [0],\n",
              " 'keyString': 'Im a string'}"
            ]
          },
          "metadata": {
            "tags": []
          },
          "execution_count": 51
        }
      ]
    },
    {
      "cell_type": "code",
      "metadata": {
        "id": "oaYQ8pRPF_W8"
      },
      "source": [
        "dictVariable[\"keyDict\"]['nested1'] = 0.1"
      ],
      "execution_count": 52,
      "outputs": []
    },
    {
      "cell_type": "code",
      "metadata": {
        "id": "LyU5lOTvGGcX"
      },
      "source": [
        "dictVariable[\"keyDict\"]['nested2'] = {}"
      ],
      "execution_count": 53,
      "outputs": []
    },
    {
      "cell_type": "code",
      "metadata": {
        "colab": {
          "base_uri": "https://localhost:8080/"
        },
        "id": "Ub3t_efEGJij",
        "outputId": "29a2aef2-4733-47df-a079-b639267d3460"
      },
      "source": [
        "dictVariable"
      ],
      "execution_count": 54,
      "outputs": [
        {
          "output_type": "execute_result",
          "data": {
            "text/plain": [
              "{'keyDict': {'nested1': 0.1, 'nested2': {}},\n",
              " 'keyFloat': 0.3,\n",
              " 'keyInt': 0,\n",
              " 'keyList': [0],\n",
              " 'keyString': 'Im a string'}"
            ]
          },
          "metadata": {
            "tags": []
          },
          "execution_count": 54
        }
      ]
    },
    {
      "cell_type": "code",
      "metadata": {
        "id": "rcgqiddSlXPt"
      },
      "source": [
        "stringVarabile = 'hello'"
      ],
      "execution_count": 55,
      "outputs": []
    },
    {
      "cell_type": "code",
      "metadata": {
        "id": "nVs3e9MTlyOy"
      },
      "source": [
        "stringVarabile.capitalize?"
      ],
      "execution_count": 56,
      "outputs": []
    },
    {
      "cell_type": "code",
      "metadata": {
        "colab": {
          "base_uri": "https://localhost:8080/",
          "height": 58
        },
        "id": "g87_-o9cl3n5",
        "outputId": "a99c0fed-15d0-42bf-e33b-8f3d8a711919"
      },
      "source": [
        "stringVarabile.capitalize()"
      ],
      "execution_count": 57,
      "outputs": [
        {
          "output_type": "execute_result",
          "data": {
            "application/vnd.google.colaboratory.intrinsic+json": {
              "type": "string"
            },
            "text/plain": [
              "'Hello'"
            ]
          },
          "metadata": {
            "tags": []
          },
          "execution_count": 57
        }
      ]
    },
    {
      "cell_type": "code",
      "metadata": {
        "colab": {
          "base_uri": "https://localhost:8080/"
        },
        "id": "-0BLwKeamFAk",
        "outputId": "9437315a-ad0d-46de-9d51-795195a836db"
      },
      "source": [
        "print(\"Hello 'you'\")"
      ],
      "execution_count": 58,
      "outputs": [
        {
          "output_type": "stream",
          "text": [
            "Hello 'you'\n"
          ],
          "name": "stdout"
        }
      ]
    },
    {
      "cell_type": "markdown",
      "metadata": {
        "id": "amXpXo5XmozQ"
      },
      "source": [
        "## Import variable"
      ]
    },
    {
      "cell_type": "code",
      "metadata": {
        "id": "l3KhntLUmyaD"
      },
      "source": [
        "import numpy"
      ],
      "execution_count": 59,
      "outputs": []
    },
    {
      "cell_type": "code",
      "metadata": {
        "colab": {
          "base_uri": "https://localhost:8080/"
        },
        "id": "efxTYEXDm6Fh",
        "outputId": "a9874e64-b35b-45d7-9ca6-78989bfd9721"
      },
      "source": [
        "numpy.abs(-3)"
      ],
      "execution_count": 60,
      "outputs": [
        {
          "output_type": "execute_result",
          "data": {
            "text/plain": [
              "3"
            ]
          },
          "metadata": {
            "tags": []
          },
          "execution_count": 60
        }
      ]
    },
    {
      "cell_type": "code",
      "metadata": {
        "id": "aW9NUsNDnBhF"
      },
      "source": [
        "import numpy as np"
      ],
      "execution_count": 61,
      "outputs": []
    },
    {
      "cell_type": "code",
      "metadata": {
        "colab": {
          "base_uri": "https://localhost:8080/"
        },
        "id": "DkwaiNrtnQLF",
        "outputId": "7df517c3-c210-44b3-fe19-afdd704f6445"
      },
      "source": [
        "np.abs(-3)"
      ],
      "execution_count": 62,
      "outputs": [
        {
          "output_type": "execute_result",
          "data": {
            "text/plain": [
              "3"
            ]
          },
          "metadata": {
            "tags": []
          },
          "execution_count": 62
        }
      ]
    },
    {
      "cell_type": "code",
      "metadata": {
        "id": "Ta9nwfqGnT91"
      },
      "source": [
        "# import statsmodels"
      ],
      "execution_count": 63,
      "outputs": []
    },
    {
      "cell_type": "code",
      "metadata": {
        "id": "9GsiNo5XnYtL"
      },
      "source": [
        "from matplotlib import pylab as plt"
      ],
      "execution_count": 64,
      "outputs": []
    },
    {
      "cell_type": "code",
      "metadata": {
        "colab": {
          "base_uri": "https://localhost:8080/",
          "height": 302
        },
        "id": "cFZPlbtynh4z",
        "outputId": "eb459146-fd34-4538-efa6-0e047b0c5f5d"
      },
      "source": [
        "pylab.plot(range(10), np.zeros(10))"
      ],
      "execution_count": 65,
      "outputs": [
        {
          "output_type": "execute_result",
          "data": {
            "text/plain": [
              "[<matplotlib.lines.Line2D at 0x7f4d02a4d810>]"
            ]
          },
          "metadata": {
            "tags": []
          },
          "execution_count": 65
        },
        {
          "output_type": "display_data",
          "data": {
            "image/png": "[encoded data removed]",
            "text/plain": [
              "<Figure size 432x288 with 1 Axes>"
            ]
          },
          "metadata": {
            "tags": [],
            "needs_background": "light"
          }
        }
      ]
    },
    {
      "cell_type": "code",
      "metadata": {
        "colab": {
          "base_uri": "https://localhost:8080/",
          "height": 302
        },
        "id": "IHQr_GWCnvt3",
        "outputId": "1b3ae32c-aa09-4486-edd9-b786a4056c4b"
      },
      "source": [
        "plt.plot(range(10), np.zeros(10))"
      ],
      "execution_count": 66,
      "outputs": [
        {
          "output_type": "execute_result",
          "data": {
            "text/plain": [
              "[<matplotlib.lines.Line2D at 0x7f4d02961250>]"
            ]
          },
          "metadata": {
            "tags": []
          },
          "execution_count": 66
        },
        {
          "output_type": "display_data",
          "data": {
            "image/png": "[encoded data removed]",
            "text/plain": [
              "<Figure size 432x288 with 1 Axes>"
            ]
          },
          "metadata": {
            "tags": [],
            "needs_background": "light"
          }
        }
      ]
    },
    {
      "cell_type": "code",
      "metadata": {
        "colab": {
          "base_uri": "https://localhost:8080/"
        },
        "id": "TZVoKyXMn12V",
        "outputId": "7acfcf38-94e9-433e-ac87-a7860931c924"
      },
      "source": [
        "abs(-10)"
      ],
      "execution_count": 67,
      "outputs": [
        {
          "output_type": "execute_result",
          "data": {
            "text/plain": [
              "10"
            ]
          },
          "metadata": {
            "tags": []
          },
          "execution_count": 67
        }
      ]
    },
    {
      "cell_type": "markdown",
      "metadata": {
        "id": "xqVkhiexpEB-"
      },
      "source": [
        "# never import as\n",
        "# from something import * to not to preserve the namespace"
      ]
    },
    {
      "cell_type": "code",
      "metadata": {
        "id": "GRvDtsnEsVJe"
      },
      "source": [
        "intVariable = 3\n",
        "floatVariable = 3. "
      ],
      "execution_count": 71,
      "outputs": []
    },
    {
      "cell_type": "code",
      "metadata": {
        "colab": {
          "base_uri": "https://localhost:8080/"
        },
        "id": "sPO2zAFvop0R",
        "outputId": "20add07f-8f50-41cf-d61a-b7bb825a4fcf"
      },
      "source": [
        "# array is the pointer in C++\n",
        "np.array([intVariable, floatVariable, 6])"
      ],
      "execution_count": 73,
      "outputs": [
        {
          "output_type": "execute_result",
          "data": {
            "text/plain": [
              "array([3., 3., 6.])"
            ]
          },
          "metadata": {
            "tags": []
          },
          "execution_count": 73
        }
      ]
    },
    {
      "cell_type": "code",
      "metadata": {
        "colab": {
          "base_uri": "https://localhost:8080/"
        },
        "id": "gsqNgW0RsRNx",
        "outputId": "d963826c-9e48-43f8-9ec0-81aa4626fa47"
      },
      "source": [
        "myList[:-1]"
      ],
      "execution_count": 75,
      "outputs": [
        {
          "output_type": "execute_result",
          "data": {
            "text/plain": [
              "[0, 1, 'hello', 3.3]"
            ]
          },
          "metadata": {
            "tags": []
          },
          "execution_count": 75
        }
      ]
    },
    {
      "cell_type": "code",
      "metadata": {
        "colab": {
          "base_uri": "https://localhost:8080/"
        },
        "id": "6lhZQNP9sjKB",
        "outputId": "ba69d5f3-f3de-411f-941c-b6862275fd23"
      },
      "source": [
        "np.array(myList[:-1])"
      ],
      "execution_count": 76,
      "outputs": [
        {
          "output_type": "execute_result",
          "data": {
            "text/plain": [
              "array(['0', '1', 'hello', '3.3'], dtype='<U21')"
            ]
          },
          "metadata": {
            "tags": []
          },
          "execution_count": 76
        }
      ]
    },
    {
      "cell_type": "code",
      "metadata": {
        "colab": {
          "base_uri": "https://localhost:8080/"
        },
        "id": "Vtvd-NB-s027",
        "outputId": "d7159682-a4a1-4e8e-c6f8-8c73dd97ef96"
      },
      "source": [
        "np.zeros(75)"
      ],
      "execution_count": 77,
      "outputs": [
        {
          "output_type": "execute_result",
          "data": {
            "text/plain": [
              "array([0., 0., 0., 0., 0., 0., 0., 0., 0., 0., 0., 0., 0., 0., 0., 0., 0.,\n",
              "       0., 0., 0., 0., 0., 0., 0., 0., 0., 0., 0., 0., 0., 0., 0., 0., 0.,\n",
              "       0., 0., 0., 0., 0., 0., 0., 0., 0., 0., 0., 0., 0., 0., 0., 0., 0.,\n",
              "       0., 0., 0., 0., 0., 0., 0., 0., 0., 0., 0., 0., 0., 0., 0., 0., 0.,\n",
              "       0., 0., 0., 0., 0., 0., 0.])"
            ]
          },
          "metadata": {
            "tags": []
          },
          "execution_count": 77
        }
      ]
    },
    {
      "cell_type": "code",
      "metadata": {
        "colab": {
          "base_uri": "https://localhost:8080/"
        },
        "id": "-fUPC7WOs7FA",
        "outputId": "0c75b665-d6e1-40b0-e9b3-4ae7a4595c8d"
      },
      "source": [
        "np.ones(75)"
      ],
      "execution_count": 78,
      "outputs": [
        {
          "output_type": "execute_result",
          "data": {
            "text/plain": [
              "array([1., 1., 1., 1., 1., 1., 1., 1., 1., 1., 1., 1., 1., 1., 1., 1., 1.,\n",
              "       1., 1., 1., 1., 1., 1., 1., 1., 1., 1., 1., 1., 1., 1., 1., 1., 1.,\n",
              "       1., 1., 1., 1., 1., 1., 1., 1., 1., 1., 1., 1., 1., 1., 1., 1., 1.,\n",
              "       1., 1., 1., 1., 1., 1., 1., 1., 1., 1., 1., 1., 1., 1., 1., 1., 1.,\n",
              "       1., 1., 1., 1., 1., 1., 1.])"
            ]
          },
          "metadata": {
            "tags": []
          },
          "execution_count": 78
        }
      ]
    },
    {
      "cell_type": "code",
      "metadata": {
        "colab": {
          "base_uri": "https://localhost:8080/"
        },
        "id": "GSL9pWfys-Q9",
        "outputId": "5a973d78-3c65-4a09-a73f-495bb8b36ea1"
      },
      "source": [
        "np.empty(75)"
      ],
      "execution_count": 79,
      "outputs": [
        {
          "output_type": "execute_result",
          "data": {
            "text/plain": [
              "array([1., 1., 1., 1., 1., 1., 1., 1., 1., 1., 1., 1., 1., 1., 1., 1., 1.,\n",
              "       1., 1., 1., 1., 1., 1., 1., 1., 1., 1., 1., 1., 1., 1., 1., 1., 1.,\n",
              "       1., 1., 1., 1., 1., 1., 1., 1., 1., 1., 1., 1., 1., 1., 1., 1., 1.,\n",
              "       1., 1., 1., 1., 1., 1., 1., 1., 1., 1., 1., 1., 1., 1., 1., 1., 1.,\n",
              "       1., 1., 1., 1., 1., 1., 1.])"
            ]
          },
          "metadata": {
            "tags": []
          },
          "execution_count": 79
        }
      ]
    },
    {
      "cell_type": "code",
      "metadata": {
        "id": "ss_tnkc-tJXS"
      },
      "source": [
        "tmparray = np.zeros(75, int).dtype"
      ],
      "execution_count": 80,
      "outputs": []
    },
    {
      "cell_type": "code",
      "metadata": {
        "colab": {
          "base_uri": "https://localhost:8080/"
        },
        "id": "nAMCStUXtN0g",
        "outputId": "9a3cfe0b-6bc5-4799-e61f-4392db3d2980"
      },
      "source": [
        "myList[0:1]"
      ],
      "execution_count": 81,
      "outputs": [
        {
          "output_type": "execute_result",
          "data": {
            "text/plain": [
              "[0]"
            ]
          },
          "metadata": {
            "tags": []
          },
          "execution_count": 81
        }
      ]
    },
    {
      "cell_type": "code",
      "metadata": {
        "id": "2xpgrUrNtP20"
      },
      "source": [
        "zeroarray = np.zeros(7, int)\n",
        "onearray = np.ones(7, float)"
      ],
      "execution_count": 82,
      "outputs": []
    },
    {
      "cell_type": "code",
      "metadata": {
        "colab": {
          "base_uri": "https://localhost:8080/"
        },
        "id": "7kly6R7-tul2",
        "outputId": "c9c06151-7246-403a-c20a-7fd3c1725720"
      },
      "source": [
        "zeroarray * onearray"
      ],
      "execution_count": 83,
      "outputs": [
        {
          "output_type": "execute_result",
          "data": {
            "text/plain": [
              "array([0., 0., 0., 0., 0., 0., 0.])"
            ]
          },
          "metadata": {
            "tags": []
          },
          "execution_count": 83
        }
      ]
    },
    {
      "cell_type": "code",
      "metadata": {
        "colab": {
          "base_uri": "https://localhost:8080/"
        },
        "id": "Mgd2MqzCuBvO",
        "outputId": "9f199ea2-3bf8-46e5-cb0b-7a18908d98f9"
      },
      "source": [
        "zeroarray.ndim"
      ],
      "execution_count": 84,
      "outputs": [
        {
          "output_type": "execute_result",
          "data": {
            "text/plain": [
              "1"
            ]
          },
          "metadata": {
            "tags": []
          },
          "execution_count": 84
        }
      ]
    },
    {
      "cell_type": "code",
      "metadata": {
        "colab": {
          "base_uri": "https://localhost:8080/"
        },
        "id": "6l3l_RWruGwm",
        "outputId": "5219791d-58b8-4af0-cb10-85bd9fcba774"
      },
      "source": [
        "zeroarray.min"
      ],
      "execution_count": 85,
      "outputs": [
        {
          "output_type": "execute_result",
          "data": {
            "text/plain": [
              "<function ndarray.min>"
            ]
          },
          "metadata": {
            "tags": []
          },
          "execution_count": 85
        }
      ]
    },
    {
      "cell_type": "code",
      "metadata": {
        "colab": {
          "base_uri": "https://localhost:8080/"
        },
        "id": "b4i7x-9NuM5i",
        "outputId": "d76e9d56-f65c-426d-b0b9-f45725a2f835"
      },
      "source": [
        "range(10)"
      ],
      "execution_count": 86,
      "outputs": [
        {
          "output_type": "execute_result",
          "data": {
            "text/plain": [
              "range(0, 10)"
            ]
          },
          "metadata": {
            "tags": []
          },
          "execution_count": 86
        }
      ]
    },
    {
      "cell_type": "code",
      "metadata": {
        "colab": {
          "base_uri": "https://localhost:8080/"
        },
        "id": "Vt75OcEEuSaZ",
        "outputId": "d75f47c1-35fa-4d7f-b140-f9d418b50ca1"
      },
      "source": [
        "list(range(10))"
      ],
      "execution_count": 87,
      "outputs": [
        {
          "output_type": "execute_result",
          "data": {
            "text/plain": [
              "[0, 1, 2, 3, 4, 5, 6, 7, 8, 9]"
            ]
          },
          "metadata": {
            "tags": []
          },
          "execution_count": 87
        }
      ]
    },
    {
      "cell_type": "code",
      "metadata": {
        "colab": {
          "base_uri": "https://localhost:8080/"
        },
        "id": "Z7qQe3DRuVtz",
        "outputId": "42d0d5e7-f3e0-4e34-a6d1-6d821d5ece7f"
      },
      "source": [
        "np.arange(10.)"
      ],
      "execution_count": 88,
      "outputs": [
        {
          "output_type": "execute_result",
          "data": {
            "text/plain": [
              "array([0., 1., 2., 3., 4., 5., 6., 7., 8., 9.])"
            ]
          },
          "metadata": {
            "tags": []
          },
          "execution_count": 88
        }
      ]
    },
    {
      "cell_type": "code",
      "metadata": {
        "colab": {
          "base_uri": "https://localhost:8080/"
        },
        "id": "tl67dY3CubrD",
        "outputId": "914100f1-7c51-42e8-fe8a-96f7f251cb1c"
      },
      "source": [
        "np.arange(5, 10., 2)"
      ],
      "execution_count": 90,
      "outputs": [
        {
          "output_type": "execute_result",
          "data": {
            "text/plain": [
              "array([5., 7., 9.])"
            ]
          },
          "metadata": {
            "tags": []
          },
          "execution_count": 90
        }
      ]
    },
    {
      "cell_type": "code",
      "metadata": {
        "colab": {
          "base_uri": "https://localhost:8080/"
        },
        "id": "gEDlsQZJuctd",
        "outputId": "fe02e9ac-388d-436f-ff20-183ca165a047"
      },
      "source": [
        "np.random.rand()"
      ],
      "execution_count": 91,
      "outputs": [
        {
          "output_type": "execute_result",
          "data": {
            "text/plain": [
              "0.6481088605670839"
            ]
          },
          "metadata": {
            "tags": []
          },
          "execution_count": 91
        }
      ]
    },
    {
      "cell_type": "code",
      "metadata": {
        "colab": {
          "base_uri": "https://localhost:8080/"
        },
        "id": "XKtbrJg3upEs",
        "outputId": "c8c599e5-ad14-41d8-f4a2-f029273e804d"
      },
      "source": [
        "np.random.rand(10)"
      ],
      "execution_count": 92,
      "outputs": [
        {
          "output_type": "execute_result",
          "data": {
            "text/plain": [
              "array([0.04169925, 0.62971789, 0.45187201, 0.45744175, 0.19327846,\n",
              "       0.0827232 , 0.943643  , 0.13212596, 0.03674998, 0.48377034])"
            ]
          },
          "metadata": {
            "tags": []
          },
          "execution_count": 92
        }
      ]
    },
    {
      "cell_type": "code",
      "metadata": {
        "colab": {
          "base_uri": "https://localhost:8080/"
        },
        "id": "qOVz5ZIXuuz4",
        "outputId": "48ccd171-4c35-4482-c6c1-bdfe785cacab"
      },
      "source": [
        "np.random.rand(3,2)"
      ],
      "execution_count": 93,
      "outputs": [
        {
          "output_type": "execute_result",
          "data": {
            "text/plain": [
              "array([[0.25397774, 0.58822177],\n",
              "       [0.94145363, 0.81872976],\n",
              "       [0.3631268 , 0.46952797]])"
            ]
          },
          "metadata": {
            "tags": []
          },
          "execution_count": 93
        }
      ]
    },
    {
      "cell_type": "code",
      "metadata": {
        "id": "hVVfxFykuxkb"
      },
      "source": [
        "one1DArray = np.random.rand(10)\n",
        "one2DArray = np.random.rand(10,20)"
      ],
      "execution_count": 95,
      "outputs": []
    },
    {
      "cell_type": "code",
      "metadata": {
        "colab": {
          "base_uri": "https://localhost:8080/"
        },
        "id": "LMBtFDWavIfS",
        "outputId": "892c93da-8601-4b1b-e71f-4b181eae1d90"
      },
      "source": [
        "one1DArray[1:3]"
      ],
      "execution_count": 96,
      "outputs": [
        {
          "output_type": "execute_result",
          "data": {
            "text/plain": [
              "array([0.31942718, 0.05699861])"
            ]
          },
          "metadata": {
            "tags": []
          },
          "execution_count": 96
        }
      ]
    },
    {
      "cell_type": "code",
      "metadata": {
        "colab": {
          "base_uri": "https://localhost:8080/"
        },
        "id": "E7mWLP8XvPmq",
        "outputId": "5b7fae5f-9479-4ee5-f6d8-d925ab5fdc85"
      },
      "source": [
        "one2DArray[1:3, 0]"
      ],
      "execution_count": 98,
      "outputs": [
        {
          "output_type": "execute_result",
          "data": {
            "text/plain": [
              "array([0.11629913, 0.71634058])"
            ]
          },
          "metadata": {
            "tags": []
          },
          "execution_count": 98
        }
      ]
    },
    {
      "cell_type": "markdown",
      "metadata": {
        "id": "xSMu3XK_vpb0"
      },
      "source": [
        "## Functions"
      ]
    },
    {
      "cell_type": "code",
      "metadata": {
        "id": "QMgGFyc-vtA5"
      },
      "source": [
        "def myFunction(a):\n",
        "  print(\"the variable you passed is \", a*2)\n",
        "  return 1"
      ],
      "execution_count": 102,
      "outputs": []
    },
    {
      "cell_type": "code",
      "metadata": {
        "colab": {
          "base_uri": "https://localhost:8080/"
        },
        "id": "TEcw7iNUwDqO",
        "outputId": "b87ef934-d0c6-441a-8941-fc8114ba3d27"
      },
      "source": [
        "myFunction(intVariable);"
      ],
      "execution_count": 103,
      "outputs": [
        {
          "output_type": "stream",
          "text": [
            "the variable you passed is  6\n"
          ],
          "name": "stdout"
        }
      ]
    },
    {
      "cell_type": "markdown",
      "metadata": {
        "id": "_fbtyLV8wu-j"
      },
      "source": [
        "## Homeworks: crea una funzione che riconosca se una parola è palindroma e stampi la parte unica della parola"
      ]
    },
    {
      "cell_type": "code",
      "metadata": {
        "id": "XHUdqz8cw4WF"
      },
      "source": [
        "def pal(word):\n",
        "  if word == word[::-1]:\n",
        "    print(\"yes, its a palindrome\")\n",
        "  else :\n",
        "    print(\"no, is not a palindrome\")   "
      ],
      "execution_count": 109,
      "outputs": []
    },
    {
      "cell_type": "code",
      "metadata": {
        "colab": {
          "base_uri": "https://localhost:8080/"
        },
        "id": "KvX9brTXyOcz",
        "outputId": "cde81681-a440-4fac-e622-643374df9bb0"
      },
      "source": [
        "pal(\"anna\");"
      ],
      "execution_count": 106,
      "outputs": [
        {
          "output_type": "stream",
          "text": [
            "yes, its a palindrome\n"
          ],
          "name": "stdout"
        }
      ]
    },
    {
      "cell_type": "code",
      "metadata": {
        "colab": {
          "base_uri": "https://localhost:8080/"
        },
        "id": "NtobbHIRyXFn",
        "outputId": "8e6ab230-e3ed-4524-9c7e-6a695354e877"
      },
      "source": [
        "pal(\"sergio\")"
      ],
      "execution_count": 110,
      "outputs": [
        {
          "output_type": "stream",
          "text": [
            "no, is not a palindrome\n"
          ],
          "name": "stdout"
        }
      ]
    },
    {
      "cell_type": "code",
      "metadata": {
        "id": "dl1r0pIxy_ne"
      },
      "source": [
        "word = \"anna\""
      ],
      "execution_count": 113,
      "outputs": []
    },
    {
      "cell_type": "code",
      "metadata": {
        "colab": {
          "base_uri": "https://localhost:8080/",
          "height": 58
        },
        "id": "PSR_h15eyx-n",
        "outputId": "310ba7e9-aba2-43b4-f1bf-d45bc19b4d28"
      },
      "source": [
        "word[:int(len(word)/2 + 0.5)]"
      ],
      "execution_count": 116,
      "outputs": [
        {
          "output_type": "execute_result",
          "data": {
            "application/vnd.google.colaboratory.intrinsic+json": {
              "type": "string"
            },
            "text/plain": [
              "'an'"
            ]
          },
          "metadata": {
            "tags": []
          },
          "execution_count": 116
        }
      ]
    },
    {
      "cell_type": "code",
      "metadata": {
        "id": "LdNrAcOy251S"
      },
      "source": [
        "from google.colab import drive"
      ],
      "execution_count": 119,
      "outputs": []
    },
    {
      "cell_type": "code",
      "metadata": {
        "colab": {
          "base_uri": "https://localhost:8080/"
        },
        "id": "-_CcmpRP3vKg",
        "outputId": "164a3fae-0867-475f-9225-caf058c127dc"
      },
      "source": [
        "drive.mount(\"/content/drive\")"
      ],
      "execution_count": 120,
      "outputs": [
        {
          "output_type": "stream",
          "text": [
            "Mounted at /content/drive\n"
          ],
          "name": "stdout"
        }
      ]
    },
    {
      "cell_type": "code",
      "metadata": {
        "colab": {
          "base_uri": "https://localhost:8080/"
        },
        "id": "wJ6g8aDg4VMs",
        "outputId": "dee9afdc-5a4d-482a-9094-7d903b56ae71"
      },
      "source": [
        "ls\n"
      ],
      "execution_count": 121,
      "outputs": [
        {
          "output_type": "stream",
          "text": [
            "\u001b[0m\u001b[01;34mdrive\u001b[0m/  \u001b[01;34msample_data\u001b[0m/\n"
          ],
          "name": "stdout"
        }
      ]
    },
    {
      "cell_type": "code",
      "metadata": {
        "colab": {
          "base_uri": "https://localhost:8080/"
        },
        "id": "nG3VaO2l4t9_",
        "outputId": "43897c55-0bfc-4d7d-9ccc-9e7c9056a973"
      },
      "source": [
        "cd drive"
      ],
      "execution_count": 122,
      "outputs": [
        {
          "output_type": "stream",
          "text": [
            "/content/drive\n"
          ],
          "name": "stdout"
        }
      ]
    },
    {
      "cell_type": "code",
      "metadata": {
        "colab": {
          "base_uri": "https://localhost:8080/"
        },
        "id": "FGLzbkbh4w7i",
        "outputId": "dc048e03-2e6f-4d49-b710-f7131423744e"
      },
      "source": [
        "ls"
      ],
      "execution_count": 123,
      "outputs": [
        {
          "output_type": "stream",
          "text": [
            "\u001b[0m\u001b[01;34mMyDrive\u001b[0m/  \u001b[01;34mShareddrives\u001b[0m/\n"
          ],
          "name": "stdout"
        }
      ]
    },
    {
      "cell_type": "code",
      "metadata": {
        "colab": {
          "base_uri": "https://localhost:8080/"
        },
        "id": "lrnjgWYW44sR",
        "outputId": "4c9a4011-d6b2-4203-be52-8ba53b924a79"
      },
      "source": [
        "cd MyDrive/"
      ],
      "execution_count": 124,
      "outputs": [
        {
          "output_type": "stream",
          "text": [
            "/content/drive/MyDrive\n"
          ],
          "name": "stdout"
        }
      ]
    },
    {
      "cell_type": "code",
      "metadata": {
        "colab": {
          "base_uri": "https://localhost:8080/"
        },
        "id": "2XCuUoLR46hU",
        "outputId": "cf5b4e39-dace-4556-878d-826d6925f262"
      },
      "source": [
        "ls"
      ],
      "execution_count": 125,
      "outputs": [
        {
          "output_type": "stream",
          "text": [
            "\u001b[0m\u001b[01;34m'Backup pc'\u001b[0m/\n",
            "\u001b[01;34m'Colab Notebooks'\u001b[0m/\n",
            " curriculum.pdf\n",
            " CV-Europass-20190601-IT-3.pdf\n",
            " Esame.zip\n",
            "'Esercizio analisi di associazioni funzionali con string.gdoc'\n",
            "'Esercizio rate evolutivi.gdoc'\n",
            "\u001b[01;34m'Foto mamma '\u001b[0m/\n",
            " \u001b[01;34mGiappone\u001b[0m/\n",
            " ispalindrome.py\n",
            " Lezioni.zip\n",
            " \u001b[01;34mMagistrale\u001b[0m/\n",
            "'Questionario primo anno.gform'\n",
            "'Questionario secondo anno.gform'\n",
            " \u001b[01;34mTriennale\u001b[0m/\n"
          ],
          "name": "stdout"
        }
      ]
    },
    {
      "cell_type": "code",
      "metadata": {
        "id": "7iEPf7-r5K50"
      },
      "source": [
        "import ispalindrome as ipl"
      ],
      "execution_count": 127,
      "outputs": []
    },
    {
      "cell_type": "code",
      "metadata": {
        "colab": {
          "base_uri": "https://localhost:8080/"
        },
        "id": "el45zo2Y5Tyu",
        "outputId": "61d70305-0611-43a5-cf97-54723d82af4f"
      },
      "source": [
        "ipl.lookForPal(\"Anna\")"
      ],
      "execution_count": 128,
      "outputs": [
        {
          "output_type": "stream",
          "text": [
            "Yes its a palindrome An\n"
          ],
          "name": "stdout"
        },
        {
          "output_type": "execute_result",
          "data": {
            "text/plain": [
              "1"
            ]
          },
          "metadata": {
            "tags": []
          },
          "execution_count": 128
        }
      ]
    },
    {
      "cell_type": "code",
      "metadata": {
        "colab": {
          "base_uri": "https://localhost:8080/"
        },
        "id": "ok8PpKdV6MVX",
        "outputId": "95749933-ee06-4337-f7d9-ba89b783c6ba"
      },
      "source": [
        "!curl -O https://raw.githubusercontent.com/fedhere/PyBOOT/master/busBusses.npy"
      ],
      "execution_count": 129,
      "outputs": [
        {
          "output_type": "stream",
          "text": [
            "  % Total    % Received % Xferd  Average Speed   Time    Time     Time  Current\n",
            "                                 Dload  Upload   Total   Spent    Left  Speed\n",
            "100   240  100   240    0     0   1463      0 --:--:-- --:--:-- --:--:--  1472\n"
          ],
          "name": "stdout"
        }
      ]
    },
    {
      "cell_type": "code",
      "metadata": {
        "colab": {
          "base_uri": "https://localhost:8080/"
        },
        "id": "ZYoCOoqp7ALZ",
        "outputId": "e2b4d255-3c10-4513-ca2c-ca271e672d19"
      },
      "source": [
        "ls\n"
      ],
      "execution_count": 130,
      "outputs": [
        {
          "output_type": "stream",
          "text": [
            "\u001b[0m\u001b[01;34m'Backup pc'\u001b[0m/\n",
            " busBusses.npy\n",
            "\u001b[01;34m'Colab Notebooks'\u001b[0m/\n",
            " curriculum.pdf\n",
            " CV-Europass-20190601-IT-3.pdf\n",
            " Esame.zip\n",
            "'Esercizio analisi di associazioni funzionali con string.gdoc'\n",
            "'Esercizio rate evolutivi.gdoc'\n",
            "\u001b[01;34m'Foto mamma '\u001b[0m/\n",
            " \u001b[01;34mGiappone\u001b[0m/\n",
            " ispalindrome.py\n",
            " Lezioni.zip\n",
            " \u001b[01;34mMagistrale\u001b[0m/\n",
            " \u001b[01;34m__pycache__\u001b[0m/\n",
            "'Questionario primo anno.gform'\n",
            "'Questionario secondo anno.gform'\n",
            " \u001b[01;34mTriennale\u001b[0m/\n"
          ],
          "name": "stdout"
        }
      ]
    },
    {
      "cell_type": "code",
      "metadata": {
        "colab": {
          "base_uri": "https://localhost:8080/"
        },
        "id": "dUZa3vD87J_y",
        "outputId": "97572412-1d93-4450-a138-929ff6ab2aab"
      },
      "source": [
        "!curl -O https://raw.githubusercontent.com/fedhere/PyBOOT/master/busTimeTable.npy"
      ],
      "execution_count": 131,
      "outputs": [
        {
          "output_type": "stream",
          "text": [
            "  % Total    % Received % Xferd  Average Speed   Time    Time     Time  Current\n",
            "                                 Dload  Upload   Total   Spent    Left  Speed\n",
            "\r  0     0    0     0    0     0      0      0 --:--:-- --:--:-- --:--:--     0\r100  1680  100  1680    0     0  12262      0 --:--:-- --:--:-- --:--:-- 12352\n"
          ],
          "name": "stdout"
        }
      ]
    },
    {
      "cell_type": "code",
      "metadata": {
        "colab": {
          "base_uri": "https://localhost:8080/"
        },
        "id": "oLOehKYg7VWa",
        "outputId": "e93f0705-cabb-4180-fdee-63c4ae69aac5"
      },
      "source": [
        "ls"
      ],
      "execution_count": 132,
      "outputs": [
        {
          "output_type": "stream",
          "text": [
            "\u001b[0m\u001b[01;34m'Backup pc'\u001b[0m/\n",
            " busBusses.npy\n",
            " busTimeTable.npy\n",
            "\u001b[01;34m'Colab Notebooks'\u001b[0m/\n",
            " curriculum.pdf\n",
            " CV-Europass-20190601-IT-3.pdf\n",
            " Esame.zip\n",
            "'Esercizio analisi di associazioni funzionali con string.gdoc'\n",
            "'Esercizio rate evolutivi.gdoc'\n",
            "\u001b[01;34m'Foto mamma '\u001b[0m/\n",
            " \u001b[01;34mGiappone\u001b[0m/\n",
            " ispalindrome.py\n",
            " Lezioni.zip\n",
            " \u001b[01;34mMagistrale\u001b[0m/\n",
            " \u001b[01;34m__pycache__\u001b[0m/\n",
            "'Questionario primo anno.gform'\n",
            "'Questionario secondo anno.gform'\n",
            " \u001b[01;34mTriennale\u001b[0m/\n"
          ],
          "name": "stdout"
        }
      ]
    },
    {
      "cell_type": "code",
      "metadata": {
        "id": "uKdlGqzs7cxp"
      },
      "source": [
        "tt = np.load(\"busTimeTable.npy\")"
      ],
      "execution_count": 133,
      "outputs": []
    },
    {
      "cell_type": "code",
      "metadata": {
        "id": "ETFjWZnj7ibO"
      },
      "source": [
        "busses = np.load(\"busBusses.npy\")"
      ],
      "execution_count": 135,
      "outputs": []
    },
    {
      "cell_type": "code",
      "metadata": {
        "colab": {
          "base_uri": "https://localhost:8080/"
        },
        "id": "Pu2rb-Ff7pQm",
        "outputId": "6900794b-36ca-43b7-88a4-0ad972ecc55e"
      },
      "source": [
        "busses.dtype"
      ],
      "execution_count": 136,
      "outputs": [
        {
          "output_type": "execute_result",
          "data": {
            "text/plain": [
              "dtype('int64')"
            ]
          },
          "metadata": {
            "tags": []
          },
          "execution_count": 136
        }
      ]
    },
    {
      "cell_type": "code",
      "metadata": {
        "colab": {
          "base_uri": "https://localhost:8080/"
        },
        "id": "bzfPxDct7tV5",
        "outputId": "48edf132-d284-4582-fcdd-dbd994f1c69d"
      },
      "source": [
        "busses.shape"
      ],
      "execution_count": 137,
      "outputs": [
        {
          "output_type": "execute_result",
          "data": {
            "text/plain": [
              "(20,)"
            ]
          },
          "metadata": {
            "tags": []
          },
          "execution_count": 137
        }
      ]
    },
    {
      "cell_type": "code",
      "metadata": {
        "colab": {
          "base_uri": "https://localhost:8080/"
        },
        "id": "1H9kSEaP71UN",
        "outputId": "06c0646f-2c9d-4989-c75f-78ee9995bfc5"
      },
      "source": [
        "tt"
      ],
      "execution_count": 138,
      "outputs": [
        {
          "output_type": "execute_result",
          "data": {
            "text/plain": [
              "array([[ 91.82869011,  72.99278771,  96.74459251,  73.41298391,\n",
              "         85.58215726, 101.38226456,  96.97680737,  95.56072596,\n",
              "         77.87195303,  78.37553397],\n",
              "       [ 61.03022409,  60.00463334,  67.86228679,  41.10873249,\n",
              "         53.37659575,  36.91790247,  53.62835897,  55.73660035,\n",
              "         58.56814116,  54.98889748],\n",
              "       [ 60.98477297,  45.55742203,  45.88400007,  66.16346096,\n",
              "         60.03163411,  50.85322708,  45.37677315,  53.8142472 ,\n",
              "         54.54569551,  60.64418839],\n",
              "       [ 87.98620643,  55.8021912 ,  81.02751282,  66.19019631,\n",
              "         53.30000683,  67.55780543,  74.38103569,  71.13924744,\n",
              "         87.67477883,  67.09783283],\n",
              "       [ 73.8097995 ,  79.25914025,  86.31085813,  99.77766307,\n",
              "         90.29078454,  84.37561182,  95.84112464,  84.50840611,\n",
              "         97.12166748, 105.17515918],\n",
              "       [ 77.14467806,  71.12444623,  52.12373301,  73.45946947,\n",
              "         91.36942688,  72.86854378,  68.71403738,  72.43112835,\n",
              "         61.79702835,  72.26935691],\n",
              "       [ 86.30704523, 102.23174241, 113.01884237,  95.69827044,\n",
              "         98.59959209, 114.93276158, 104.41133895, 105.50238628,\n",
              "         93.35943062,  98.78277939],\n",
              "       [ 74.71226929,  80.97147937,  89.16214966,  70.2307603 ,\n",
              "         81.4312056 ,  78.3874604 ,  78.96898309,  72.10555491,\n",
              "         55.51923827,  79.02316128],\n",
              "       [ 77.92696605,  92.77956675,  69.3108149 ,  61.53129422,\n",
              "         70.65140894,  76.97932739,  73.41862304,  84.09255185,\n",
              "         63.36670996,  67.99069123],\n",
              "       [ 49.24024409,  67.65617269,  61.19613048,  51.40181978,\n",
              "         44.90729398,  68.52445254,  78.97249561,  52.57678652,\n",
              "         53.74647403,  54.37398039],\n",
              "       [ 59.18999377,  70.37804103,  48.60766952,  81.46181456,\n",
              "         64.85214737,  65.33415395,  58.19399315,  61.38295111,\n",
              "         57.04243639,  59.63865558],\n",
              "       [ 75.12543348, 106.12441583,  85.73822318,  85.38739475,\n",
              "         67.688885  ,  78.10374313,  85.17605977,  80.99901671,\n",
              "         87.65882487,  86.52981761],\n",
              "       [ 63.75814098,  53.37348145,  70.99872588,  77.81639011,\n",
              "         62.0375387 ,  56.34111999,  68.85249945,  55.82441791,\n",
              "         68.08625797,  72.10975084],\n",
              "       [ 15.59478274,  33.19279169,  35.26912395,  30.90715331,\n",
              "         56.00936929,  32.58024267,  46.41792735,  42.82946792,\n",
              "         43.28099373,  49.37757159],\n",
              "       [ 46.16732427,  81.31977757,  75.50469581,  65.69300662,\n",
              "         56.53048576,  56.31828323,  49.76376656,  56.47451759,\n",
              "         65.87847643,  61.13387985],\n",
              "       [ 77.280952  ,  76.29909699,  73.30769388,  96.05834373,\n",
              "         89.29221424,  87.4965901 ,  65.51103779,  85.00879678,\n",
              "         83.01854661,  70.11890182],\n",
              "       [ 60.22412814,  51.24633613,  29.71850033,  47.59939621,\n",
              "         61.07689437,  58.55899776,  40.75295312,  54.98036344,\n",
              "         52.91969315,  44.25847756],\n",
              "       [ 48.79074854,  61.22026506,  60.92437628,  60.83824996,\n",
              "         53.31451393,  53.76179385,  52.20652832,  65.24639906,\n",
              "         18.21655529,  66.6490358 ],\n",
              "       [ 71.92154159,  80.80014634,  67.85942205,  61.04740331,\n",
              "         58.18359773,  66.40353147,  77.43164409,  74.96692462,\n",
              "         69.20014753,  80.85366556],\n",
              "       [ 78.79188234,  89.45851705,  70.64935937,  58.27493978,\n",
              "         68.58490247,  89.96935633,  66.60290963,  65.79740182,\n",
              "         70.80114802,  75.60585109]])"
            ]
          },
          "metadata": {
            "tags": []
          },
          "execution_count": 138
        }
      ]
    },
    {
      "cell_type": "markdown",
      "metadata": {
        "id": "8_kcQHV376gy"
      },
      "source": [
        "\n",
        "\n",
        "1.   Create an array of times of the day in hour from 1 to 10 (size 10)\n",
        "2.   Find the bus that on average takes the longest trips \n",
        "3.   Find the hour of the day when the busses take the longest time\n",
        "\n"
      ]
    },
    {
      "cell_type": "code",
      "metadata": {
        "colab": {
          "base_uri": "https://localhost:8080/"
        },
        "id": "6tZwHIiL8ncy",
        "outputId": "0d1a0b60-e30b-48e3-9a08-c35fcd818d2e"
      },
      "source": [
        "tt.mean(axis = 0)"
      ],
      "execution_count": 152,
      "outputs": [
        {
          "output_type": "execute_result",
          "data": {
            "text/plain": [
              "array([66.89079118, 71.58962256, 69.06093555, 68.20293716, 68.35553274,\n",
              "       69.88235848, 69.07994486, 69.5488946 , 65.98370986, 70.24985942])"
            ]
          },
          "metadata": {
            "tags": []
          },
          "execution_count": 152
        }
      ]
    },
    {
      "cell_type": "code",
      "metadata": {
        "id": "Pd-Fj7hp8pvb"
      },
      "source": [
        "# ci sono 20 bus e 10 ore"
      ],
      "execution_count": null,
      "outputs": []
    },
    {
      "cell_type": "code",
      "metadata": {
        "colab": {
          "base_uri": "https://localhost:8080/"
        },
        "id": "tAz7SATG8902",
        "outputId": "13342fe2-dd95-4a4c-b61f-d24a827b7192"
      },
      "source": [
        "tt.shape"
      ],
      "execution_count": 140,
      "outputs": [
        {
          "output_type": "execute_result",
          "data": {
            "text/plain": [
              "(20, 10)"
            ]
          },
          "metadata": {
            "tags": []
          },
          "execution_count": 140
        }
      ]
    },
    {
      "cell_type": "code",
      "metadata": {
        "id": "0WS-_nG48_us"
      },
      "source": [
        "# quindi le righe sono le ore e le colonne sono i bus"
      ],
      "execution_count": null,
      "outputs": []
    },
    {
      "cell_type": "code",
      "metadata": {
        "colab": {
          "base_uri": "https://localhost:8080/"
        },
        "id": "uSWsLtWM9Nlf",
        "outputId": "65715baf-4e89-4e5a-dbeb-60f917f2f9f5"
      },
      "source": [
        "hours = np.arange(1, 11)\n",
        "hours"
      ],
      "execution_count": 155,
      "outputs": [
        {
          "output_type": "execute_result",
          "data": {
            "text/plain": [
              "array([ 1,  2,  3,  4,  5,  6,  7,  8,  9, 10])"
            ]
          },
          "metadata": {
            "tags": []
          },
          "execution_count": 155
        }
      ]
    },
    {
      "cell_type": "code",
      "metadata": {
        "colab": {
          "base_uri": "https://localhost:8080/"
        },
        "id": "8__xAQ22-OYL",
        "outputId": "13787520-b14b-4e5f-a7d6-2c522ee73206"
      },
      "source": [
        "bus = tt.mean(axis = 0)\n",
        "maxi = bus.max()\n",
        "maxi"
      ],
      "execution_count": 154,
      "outputs": [
        {
          "output_type": "execute_result",
          "data": {
            "text/plain": [
              "71.58962255653003"
            ]
          },
          "metadata": {
            "tags": []
          },
          "execution_count": 154
        }
      ]
    },
    {
      "cell_type": "code",
      "metadata": {
        "colab": {
          "base_uri": "https://localhost:8080/"
        },
        "id": "bXr5mPAd_NFJ",
        "outputId": "43785bd4-2150-4bf7-d757-efc82e9d1e21"
      },
      "source": [
        "hour = tt.mean(axis = 1)\n",
        "maxi1 = hour.max()\n",
        "maxi1"
      ],
      "execution_count": 156,
      "outputs": [
        {
          "output_type": "execute_result",
          "data": {
            "text/plain": [
              "101.28441893639999"
            ]
          },
          "metadata": {
            "tags": []
          },
          "execution_count": 156
        }
      ]
    },
    {
      "cell_type": "code",
      "metadata": {
        "colab": {
          "base_uri": "https://localhost:8080/"
        },
        "id": "AeyqP2y6_Th0",
        "outputId": "d321aa8d-3054-41a6-f5a4-6be4f1add909"
      },
      "source": [
        "bus == bus.max()"
      ],
      "execution_count": 159,
      "outputs": [
        {
          "output_type": "execute_result",
          "data": {
            "text/plain": [
              "array([False,  True, False, False, False, False, False, False, False,\n",
              "       False])"
            ]
          },
          "metadata": {
            "tags": []
          },
          "execution_count": 159
        }
      ]
    },
    {
      "cell_type": "code",
      "metadata": {
        "colab": {
          "base_uri": "https://localhost:8080/",
          "height": 199
        },
        "id": "UNdVFV-sAjFk",
        "outputId": "e3214ffb-6e2d-41e8-e34e-cc2fd89e3533"
      },
      "source": [
        "busses[bus == bus.max()] "
      ],
      "execution_count": 160,
      "outputs": [
        {
          "output_type": "error",
          "ename": "IndexError",
          "evalue": "ignored",
          "traceback": [
            "\u001b[0;31m---------------------------------------------------------------------------\u001b[0m",
            "\u001b[0;31mIndexError\u001b[0m                                Traceback (most recent call last)",
            "\u001b[0;32m<ipython-input-160-8458bfd98ddc>\u001b[0m in \u001b[0;36m<module>\u001b[0;34m()\u001b[0m\n\u001b[0;32m----> 1\u001b[0;31m \u001b[0mbusses\u001b[0m\u001b[0;34m[\u001b[0m\u001b[0mbus\u001b[0m \u001b[0;34m==\u001b[0m \u001b[0mbus\u001b[0m\u001b[0;34m.\u001b[0m\u001b[0mmax\u001b[0m\u001b[0;34m(\u001b[0m\u001b[0;34m)\u001b[0m\u001b[0;34m]\u001b[0m\u001b[0;34m\u001b[0m\u001b[0;34m\u001b[0m\u001b[0m\n\u001b[0m",
            "\u001b[0;31mIndexError\u001b[0m: boolean index did not match indexed array along dimension 0; dimension is 20 but corresponding boolean dimension is 10"
          ]
        }
      ]
    },
    {
      "cell_type": "code",
      "metadata": {
        "colab": {
          "base_uri": "https://localhost:8080/"
        },
        "id": "I2kas3n5A1yl",
        "outputId": "d47d3b72-4d1b-4b43-c318-77c59ae3e57e"
      },
      "source": [
        "import pylab as pl\n",
        "%pylab inline "
      ],
      "execution_count": 161,
      "outputs": [
        {
          "output_type": "stream",
          "text": [
            "Populating the interactive namespace from numpy and matplotlib\n"
          ],
          "name": "stdout"
        },
        {
          "output_type": "stream",
          "text": [
            "/usr/local/lib/python3.7/dist-packages/IPython/core/magics/pylab.py:161: UserWarning: pylab import has clobbered these variables: ['plt']\n",
            "`%matplotlib` prevents importing * from pylab and numpy\n",
            "  \"\\n`%matplotlib` prevents importing * from pylab and numpy\"\n"
          ],
          "name": "stderr"
        }
      ]
    },
    {
      "cell_type": "code",
      "metadata": {
        "id": "3JNj43yxBBY5"
      },
      "source": [
        "plt.plot?"
      ],
      "execution_count": 162,
      "outputs": []
    },
    {
      "cell_type": "code",
      "metadata": {
        "colab": {
          "base_uri": "https://localhost:8080/",
          "height": 302
        },
        "id": "m_sYJ_EvBId7",
        "outputId": "d6c1fc4d-ded1-4725-be23-3171d9eee2bc"
      },
      "source": [
        "plt.plot(hours, tt[0], 'g')\n",
        "plt.plot(hours, tt[1], 'g', alpha = 0.5)"
      ],
      "execution_count": 171,
      "outputs": [
        {
          "output_type": "execute_result",
          "data": {
            "text/plain": [
              "[<matplotlib.lines.Line2D at 0x7f4cfcbb79d0>]"
            ]
          },
          "metadata": {
            "tags": []
          },
          "execution_count": 171
        },
        {
          "output_type": "display_data",
          "data": {
            "image/png": "[encoded data removed]",
            "text/plain": [
              "<Figure size 432x288 with 1 Axes>"
            ]
          },
          "metadata": {
            "tags": [],
            "needs_background": "light"
          }
        }
      ]
    },
    {
      "cell_type": "code",
      "metadata": {
        "colab": {
          "base_uri": "https://localhost:8080/",
          "height": 316
        },
        "id": "Kimwm1CjBTMh",
        "outputId": "3123c0f9-2fae-4ad4-8a80-a1e98fcb7333"
      },
      "source": [
        "plt.plot(hours, tt[0], 'k+', alpha = 0.5)\n",
        "plt.xlabel(\"x\")\n",
        "plt.ylabel(\"y\")"
      ],
      "execution_count": 170,
      "outputs": [
        {
          "output_type": "execute_result",
          "data": {
            "text/plain": [
              "Text(0, 0.5, 'y')"
            ]
          },
          "metadata": {
            "tags": []
          },
          "execution_count": 170
        },
        {
          "output_type": "display_data",
          "data": {
            "image/png": "[encoded data removed]",
            "text/plain": [
              "<Figure size 432x288 with 1 Axes>"
            ]
          },
          "metadata": {
            "tags": [],
            "needs_background": "light"
          }
        }
      ]
    },
    {
      "cell_type": "code",
      "metadata": {
        "colab": {
          "base_uri": "https://localhost:8080/",
          "height": 320
        },
        "id": "eMpCRoouBibm",
        "outputId": "266608a5-3fca-4494-f705-8283c6c92910"
      },
      "source": [
        "fig = plt.figure()\n",
        "ax1 = fig.add_subplot(121)\n",
        "ax2 = fig.add_subplot(122)\n",
        "ax1.set_xlabel(\"some range\")\n",
        "ax1.set_ylabel(\"some range\")"
      ],
      "execution_count": 168,
      "outputs": [
        {
          "output_type": "execute_result",
          "data": {
            "text/plain": [
              "Text(0, 0.5, 'some range')"
            ]
          },
          "metadata": {
            "tags": []
          },
          "execution_count": 168
        },
        {
          "output_type": "display_data",
          "data": {
            "image/png": "[encoded data removed]",
            "text/plain": [
              "<Figure size 432x288 with 2 Axes>"
            ]
          },
          "metadata": {
            "tags": [],
            "needs_background": "light"
          }
        }
      ]
    },
    {
      "cell_type": "code",
      "metadata": {
        "id": "TX8d2sqDCe_l"
      },
      "source": [
        "import sys\n"
      ],
      "execution_count": null,
      "outputs": []
    }
  ]
}